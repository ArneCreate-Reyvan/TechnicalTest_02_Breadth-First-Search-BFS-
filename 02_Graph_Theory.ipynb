{
  "nbformat": 4,
  "nbformat_minor": 0,
  "metadata": {
    "colab": {
      "provenance": []
    },
    "kernelspec": {
      "name": "python3",
      "display_name": "Python 3"
    },
    "language_info": {
      "name": "python"
    }
  },
  "cells": [
    {
      "cell_type": "code",
      "execution_count": 2,
      "metadata": {
        "id": "aFhcdlyuJHDl",
        "colab": {
          "base_uri": "https://localhost:8080/"
        },
        "outputId": "ddd6c14c-3746-4091-a73b-ba7de0b997e7"
      },
      "outputs": [
        {
          "output_type": "stream",
          "name": "stdout",
          "text": [
            "[1, 2, 3, 4, 5, 6]\n"
          ]
        }
      ],
      "source": [
        "from collections import deque\n",
        "\n",
        "def breadthFirstSearch(graph, startNode):\n",
        "    visited = []\n",
        "\n",
        "    queue = deque([startNode])\n",
        "\n",
        "    while queue:\n",
        "        node = queue.popleft()\n",
        "\n",
        "        if node not in visited:\n",
        "            visited.append(node)\n",
        "\n",
        "            for neighbor in graph[node]:\n",
        "                if neighbor not in visited:\n",
        "                    queue.append(neighbor)\n",
        "\n",
        "    return visited\n",
        "\n",
        "graph = {\n",
        "    1: [2, 3],\n",
        "    2: [1, 4, 5],\n",
        "    3: [1, 6],\n",
        "    4: [2],\n",
        "    5: [2, 6],\n",
        "    6: [3, 5]\n",
        "}\n",
        "startNode = 1\n",
        "result = breadthFirstSearch(graph, startNode)\n",
        "print(result)\n"
      ]
    }
  ]
}